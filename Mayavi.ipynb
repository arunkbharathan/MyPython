{
 "metadata": {
  "name": ""
 },
 "nbformat": 3,
 "nbformat_minor": 0,
 "worksheets": [
  {
   "cells": [
    {
     "cell_type": "code",
     "collapsed": false,
     "input": [
      "from mayavi import mlab\n",
      "x, y, z, value = np.random.random((4, 40))\n",
      "mlab.points3d(x, y, z, value)"
     ],
     "language": "python",
     "metadata": {},
     "outputs": [
      {
       "metadata": {},
       "output_type": "pyout",
       "prompt_number": 1,
       "text": [
        "<mayavi.modules.glyph.Glyph at 0x7f4a72721590>"
       ]
      }
     ],
     "prompt_number": 1
    },
    {
     "cell_type": "code",
     "collapsed": false,
     "input": [
      "mlab.clf()  # Clear the figure\n",
      "t = np.linspace(0, 20, 200)\n",
      "mlab.plot3d(np.sin(t), np.cos(t), 0.1*t, t)"
     ],
     "language": "python",
     "metadata": {},
     "outputs": [
      {
       "metadata": {},
       "output_type": "pyout",
       "prompt_number": 2,
       "text": [
        "<mayavi.modules.surface.Surface at 0x7f4a7261e530>"
       ]
      }
     ],
     "prompt_number": 2
    },
    {
     "cell_type": "code",
     "collapsed": false,
     "input": [
      "mlab.clf()\n",
      "x, y = np.mgrid[-10:10:100j, -10:10:100j]\n",
      "r = np.sqrt(x**2 + y**2)\n",
      "z = np.sin(r)/r\n",
      "mlab.surf(z, warp_scale='auto')"
     ],
     "language": "python",
     "metadata": {},
     "outputs": [
      {
       "metadata": {},
       "output_type": "pyout",
       "prompt_number": 3,
       "text": [
        "<mayavi.modules.surface.Surface at 0x7f4a725be5f0>"
       ]
      }
     ],
     "prompt_number": 3
    },
    {
     "cell_type": "code",
     "collapsed": false,
     "input": [
      "mlab.clf()\n",
      "phi, theta = np.mgrid[0:np.pi:11j, 0:2*np.pi:11j]\n",
      "x = np.sin(phi) * np.cos(theta)\n",
      "y = np.sin(phi) * np.sin(theta)\n",
      "z = np.cos(phi)\n",
      "mlab.mesh(x, y, z)\n",
      "mlab.mesh(x, y, z, representation='wireframe', color=(0, 0, 0))"
     ],
     "language": "python",
     "metadata": {},
     "outputs": [
      {
       "metadata": {},
       "output_type": "pyout",
       "prompt_number": 4,
       "text": [
        "<mayavi.modules.surface.Surface at 0x7f4a72400110>"
       ]
      }
     ],
     "prompt_number": 4
    },
    {
     "cell_type": "code",
     "collapsed": false,
     "input": [
      "mlab.clf()\n",
      "x, y, z = np.mgrid[-5:5:64j, -5:5:64j, -5:5:64j]\n",
      "values = x*x*0.5 + y*y + z*z*2.0\n",
      "mlab.contour3d(values)"
     ],
     "language": "python",
     "metadata": {},
     "outputs": [
      {
       "metadata": {},
       "output_type": "pyout",
       "prompt_number": 5,
       "text": [
        "<mayavi.modules.iso_surface.IsoSurface at 0x7f4a72581bf0>"
       ]
      }
     ],
     "prompt_number": 5
    },
    {
     "cell_type": "code",
     "collapsed": false,
     "input": [
      "scipy.cos is np.cos"
     ],
     "language": "python",
     "metadata": {},
     "outputs": [
      {
       "ename": "NameError",
       "evalue": "name 'scipy' is not defined",
       "output_type": "pyerr",
       "traceback": [
        "\u001b[0;31m---------------------------------------------------------------------------\u001b[0m\n\u001b[0;31mNameError\u001b[0m                                 Traceback (most recent call last)",
        "\u001b[0;32m<ipython-input-1-6ad6c9ba9b2a>\u001b[0m in \u001b[0;36m<module>\u001b[0;34m()\u001b[0m\n\u001b[0;32m----> 1\u001b[0;31m \u001b[0mscipy\u001b[0m\u001b[0;34m.\u001b[0m\u001b[0mcos\u001b[0m \u001b[0;32mis\u001b[0m \u001b[0mnp\u001b[0m\u001b[0;34m.\u001b[0m\u001b[0mcos\u001b[0m\u001b[0;34m\u001b[0m\u001b[0m\n\u001b[0m",
        "\u001b[0;31mNameError\u001b[0m: name 'scipy' is not defined"
       ]
      }
     ],
     "prompt_number": 1
    },
    {
     "cell_type": "code",
     "collapsed": false,
     "input": [],
     "language": "python",
     "metadata": {},
     "outputs": []
    }
   ],
   "metadata": {}
  }
 ]
}
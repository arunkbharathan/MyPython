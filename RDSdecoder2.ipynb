{
 "metadata": {
  "name": ""
 },
 "nbformat": 3,
 "nbformat_minor": 0,
 "worksheets": [
  {
   "cells": [
    {
     "cell_type": "code",
     "collapsed": false,
     "input": [
      "codeword = 0b10000000000000000011111100\n",
      "offsetword =               0b0011111100\n",
      "Si=0b1111111111\n",
      "Sf=0\n",
      "Reg16=0\n",
      "Ga=1\n",
      "Gb=1\n",
      "Gc=0\n",
      "outword=0\n",
      "for i in xrange(32):\n",
      "    \n",
      "    if(i==16):\n",
      "        Gb=0\n",
      "        Gc=1\n",
      "        \n",
      "    inbit=(codeword & (33554432>>i))>0\n",
      "    if(Gc):\n",
      "        inbit = inbit^((offsetword&(512>>(i-16)))>0)\n",
      "        \n",
      "    MSB=(Si&512)>0\n",
      "    a=0\n",
      "    b=0\n",
      "    c=0\n",
      "    if(MSB&Ga):\n",
      "        a=441\n",
      "    if(inbit):\n",
      "        b=795\n",
      "    c=(Si<<1)&1023\n",
      "    Sf=(a^b)^c\n",
      "    \n",
      "    \n",
      "    multiNOR=not((Si&31)>0)\n",
      "    dualAND=MSB&multiNOR\n",
      "    \n",
      "    if(multiNOR&(i>15)):\n",
      "        Ga=0\n",
      "        \n",
      "    \n",
      "    RegOutbit=(((Reg16<<1)&65536)>0)\n",
      "    Reg16=(Reg16<<1)&65535\n",
      "    if(Gb&inbit):\n",
      "        Reg16^=1\n",
      "    \n",
      "    \n",
      "        \n",
      "    outbit=dualAND^RegOutbit\n",
      "    outword=(outword<<1)^outbit\n",
      "    \n",
      "    #print i,' ',bin(Si),\"@\",bin(Sf),'@',bin(Reg16),'@',multiNOR,'@',MSB,'@',dualAND,'@',outbit,'@',bin(outword)\n",
      "    #raw_input([\"\"])\n",
      "    Si=Sf\n",
      "\n",
      "print '*',bin(outword)\n",
      "if((Si&31)>0):\n",
      "        print 'Bad Block'\n"
     ],
     "language": "python",
     "metadata": {},
     "outputs": [
      {
       "output_type": "stream",
       "stream": "stdout",
       "text": [
        "* 0b1000000000000000\n",
        "Bad Block\n"
       ]
      }
     ],
     "prompt_number": 1
    },
    {
     "cell_type": "code",
     "collapsed": false,
     "input": [
      "mlen=26\n",
      "message=0b00000000000000000011111100\n",
      "reg = 0\n",
      "poly = 0x5B9\n",
      "plen = 10\n",
      "\n",
      "for i in xrange(mlen, 0, -1):\n",
      "      \n",
      "    reg = (reg << 1) | ((message >> (i-1)) & 0x01)\n",
      "    if(reg & (1<<plen)):\n",
      "        reg = reg ^ poly\n",
      "        \n",
      "print bin(reg & ((1<<plen)-1))    \n",
      "     \n",
      "        \n",
      "\t"
     ],
     "language": "python",
     "metadata": {},
     "outputs": [
      {
       "output_type": "stream",
       "stream": "stdout",
       "text": [
        "0b11111100\n"
       ]
      }
     ],
     "prompt_number": 101
    },
    {
     "cell_type": "code",
     "collapsed": false,
     "input": [
      "bin(reg)"
     ],
     "language": "python",
     "metadata": {},
     "outputs": [
      {
       "metadata": {},
       "output_type": "pyout",
       "prompt_number": 100,
       "text": [
        "'0b11111100'"
       ]
      }
     ],
     "prompt_number": 100
    },
    {
     "cell_type": "code",
     "collapsed": false,
     "input": [
      "import kivy as ky"
     ],
     "language": "python",
     "metadata": {},
     "outputs": [],
     "prompt_number": 4
    },
    {
     "cell_type": "code",
     "collapsed": false,
     "input": [
      "import androidhelper"
     ],
     "language": "python",
     "metadata": {},
     "outputs": [
      {
       "ename": "ImportError",
       "evalue": "No module named androidhelper",
       "output_type": "pyerr",
       "traceback": [
        "\u001b[0;31m---------------------------------------------------------------------------\u001b[0m\n\u001b[0;31mImportError\u001b[0m                               Traceback (most recent call last)",
        "\u001b[0;32m<ipython-input-5-f8d3efe6a991>\u001b[0m in \u001b[0;36m<module>\u001b[0;34m()\u001b[0m\n\u001b[0;32m----> 1\u001b[0;31m \u001b[0;32mimport\u001b[0m \u001b[0mandroidhelper\u001b[0m\u001b[0;34m\u001b[0m\u001b[0m\n\u001b[0m",
        "\u001b[0;31mImportError\u001b[0m: No module named androidhelper"
       ]
      }
     ],
     "prompt_number": 5
    },
    {
     "cell_type": "code",
     "collapsed": false,
     "input": [],
     "language": "python",
     "metadata": {},
     "outputs": []
    }
   ],
   "metadata": {}
  }
 ]
}
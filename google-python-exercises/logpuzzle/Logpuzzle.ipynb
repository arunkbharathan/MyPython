{
 "metadata": {
  "name": ""
 },
 "nbformat": 3,
 "nbformat_minor": 0,
 "worksheets": [
  {
   "cells": [
    {
     "cell_type": "code",
     "collapsed": false,
     "input": [
      "#!/usr/bin/python\n",
      "# Copyright 2010 Google Inc.\n",
      "# Licensed under the Apache License, Version 2.0\n",
      "# http://www.apache.org/licenses/LICENSE-2.0\n",
      "\n",
      "# Google's Python Class\n",
      "# http://code.google.com/edu/languages/google-python-class/\n",
      "\n",
      "import os\n",
      "import re\n",
      "import sys\n",
      "import urllib\n",
      "\n",
      "\"\"\"Logpuzzle exercise\n",
      "Given an apache logfile, find the puzzle urls and download the images.\n",
      "\n",
      "Here's what a puzzle url looks like:\n",
      "10.254.254.28 - - [06/Aug/2007:00:13:48 -0700] \"GET /~foo/puzzle-bar-aaab.jpg HTTP/1.0\" 302 528 \"-\" \"Mozilla/5.0 (Windows; U; Windows NT 5.1; en-US; rv:1.8.1.6) Gecko/20070725 Firefox/2.0.0.6\"\n",
      "\"\"\"\n",
      "\n",
      "\n",
      "def read_urls(filename):\n",
      "  \"\"\"Returns a list of the puzzle urls from the given log file,\n",
      "  extracting the hostname from the filename itself.\n",
      "  Screens out duplicate urls and returns the urls sorted into\n",
      "  increasing order.\"\"\"\n",
      "  # +++your code here+++\n",
      "  \n",
      "\n",
      "def download_images(img_urls, dest_dir):\n",
      "  \"\"\"Given the urls already in the correct order, downloads\n",
      "  each image into the given directory.\n",
      "  Gives the images local filenames img0, img1, and so on.\n",
      "  Creates an index.html in the directory\n",
      "  with an img tag to show each local image file.\n",
      "  Creates the directory if necessary.\n",
      "  \"\"\"\n",
      "  # +++your code here+++\n",
      "  \n",
      "\n",
      "def main():\n",
      "  args = sys.argv[1:]\n",
      "\n",
      "  if not args:\n",
      "    print 'usage: [--todir dir] logfile '\n",
      "    sys.exit(1)\n",
      "\n",
      "  todir = ''\n",
      "  if args[0] == '--todir':\n",
      "    todir = args[1]\n",
      "    del args[0:2]\n",
      "\n",
      "  img_urls = read_urls(args[0])\n",
      "\n",
      "  if todir:\n",
      "    download_images(img_urls, todir)\n",
      "  else:\n",
      "    print '\\n'.join(img_urls)\n",
      "\n",
      "if __name__ == '__main__':\n",
      "  main()"
     ],
     "language": "python",
     "metadata": {},
     "outputs": [
      {
       "ename": "TypeError",
       "evalue": "",
       "output_type": "pyerr",
       "traceback": [
        "\u001b[0;31m---------------------------------------------------------------------------\u001b[0m\n\u001b[0;31mTypeError\u001b[0m                                 Traceback (most recent call last)",
        "\u001b[0;32m<ipython-input-2-5f5dee7923ea>\u001b[0m in \u001b[0;36m<module>\u001b[0;34m()\u001b[0m\n\u001b[1;32m     59\u001b[0m \u001b[0;34m\u001b[0m\u001b[0m\n\u001b[1;32m     60\u001b[0m \u001b[0;32mif\u001b[0m \u001b[0m__name__\u001b[0m \u001b[0;34m==\u001b[0m \u001b[0;34m'__main__'\u001b[0m\u001b[0;34m:\u001b[0m\u001b[0;34m\u001b[0m\u001b[0m\n\u001b[0;32m---> 61\u001b[0;31m   \u001b[0mmain\u001b[0m\u001b[0;34m(\u001b[0m\u001b[0;34m)\u001b[0m\u001b[0;34m\u001b[0m\u001b[0m\n\u001b[0m",
        "\u001b[0;32m<ipython-input-2-5f5dee7923ea>\u001b[0m in \u001b[0;36mmain\u001b[0;34m()\u001b[0m\n\u001b[1;32m     56\u001b[0m     \u001b[0mdownload_images\u001b[0m\u001b[0;34m(\u001b[0m\u001b[0mimg_urls\u001b[0m\u001b[0;34m,\u001b[0m \u001b[0mtodir\u001b[0m\u001b[0;34m)\u001b[0m\u001b[0;34m\u001b[0m\u001b[0m\n\u001b[1;32m     57\u001b[0m   \u001b[0;32melse\u001b[0m\u001b[0;34m:\u001b[0m\u001b[0;34m\u001b[0m\u001b[0m\n\u001b[0;32m---> 58\u001b[0;31m     \u001b[0;32mprint\u001b[0m \u001b[0;34m'\\n'\u001b[0m\u001b[0;34m.\u001b[0m\u001b[0mjoin\u001b[0m\u001b[0;34m(\u001b[0m\u001b[0mimg_urls\u001b[0m\u001b[0;34m)\u001b[0m\u001b[0;34m\u001b[0m\u001b[0m\n\u001b[0m\u001b[1;32m     59\u001b[0m \u001b[0;34m\u001b[0m\u001b[0m\n\u001b[1;32m     60\u001b[0m \u001b[0;32mif\u001b[0m \u001b[0m__name__\u001b[0m \u001b[0;34m==\u001b[0m \u001b[0;34m'__main__'\u001b[0m\u001b[0;34m:\u001b[0m\u001b[0;34m\u001b[0m\u001b[0m\n",
        "\u001b[0;31mTypeError\u001b[0m: "
       ]
      }
     ],
     "prompt_number": 2
    },
    {
     "cell_type": "code",
     "collapsed": false,
     "input": [
      "filenames=['place_code.google.com']\n",
      "for filename in filenames:\n",
      "    match1 = re.search(r'_(\\w+[.]\\w+[.]\\w+)',filename)\n",
      "    if match1:\n",
      "        serverName = match1.group(1)\n",
      "    fyle = open(filename,'rU')\n",
      "    text = fyle.read()\n",
      "    links=re.findall(r'\\S+puzzle\\S+',text)\n",
      "    links=sorted(links)\n",
      "    Links=[]\n",
      "    puzzleLinks=[]\n",
      "    for link in links:\n",
      "        if link not in puzzleLinks:\n",
      "            puzzleLinks.append(link)\n",
      "            Links.append('http://'+serverName+link)\n",
      "    puzzleLinks = Links\n",
      "    \n",
      "    for puzzleLink in puzzleLinks:\n",
      "        print puzzleLink\n",
      "    "
     ],
     "language": "python",
     "metadata": {},
     "outputs": [
      {
       "output_type": "stream",
       "stream": "stdout",
       "text": [
        "http://code.google.com/edu/languages/google-python-class/images/puzzle/p-baah-bbic.jpg\n",
        "http://code.google.com/edu/languages/google-python-class/images/puzzle/p-babd-bbfj.jpg\n",
        "http://code.google.com/edu/languages/google-python-class/images/puzzle/p-babf-bajg.jpg\n",
        "http://code.google.com/edu/languages/google-python-class/images/puzzle/p-babf-bbac.jpg\n",
        "http://code.google.com/edu/languages/google-python-class/images/puzzle/p-babh-bajc.jpg\n",
        "http://code.google.com/edu/languages/google-python-class/images/puzzle/p-babi-baee.jpg\n",
        "http://code.google.com/edu/languages/google-python-class/images/puzzle/p-babi-bafe.jpg\n",
        "http://code.google.com/edu/languages/google-python-class/images/puzzle/p-babi-bbbc.jpg\n",
        "http://code.google.com/edu/languages/google-python-class/images/puzzle/p-bacg-bbdb.jpg\n",
        "http://code.google.com/edu/languages/google-python-class/images/puzzle/p-bach-bbea.jpg\n",
        "http://code.google.com/edu/languages/google-python-class/images/puzzle/p-baci-bbgi.jpg\n",
        "http://code.google.com/edu/languages/google-python-class/images/puzzle/p-baea-baaa.jpg\n",
        "http://code.google.com/edu/languages/google-python-class/images/puzzle/p-baeb-baci.jpg\n",
        "http://code.google.com/edu/languages/google-python-class/images/puzzle/p-baec-bbad.jpg\n",
        "http://code.google.com/edu/languages/google-python-class/images/puzzle/p-baej-baec.jpg\n",
        "http://code.google.com/edu/languages/google-python-class/images/puzzle/p-baff-bbbg.jpg\n",
        "http://code.google.com/edu/languages/google-python-class/images/puzzle/p-bafg-bbja.jpg\n",
        "http://code.google.com/edu/languages/google-python-class/images/puzzle/p-bafh-bbjc.jpg\n",
        "http://code.google.com/edu/languages/google-python-class/images/puzzle/p-bafi-babj.jpg\n",
        "http://code.google.com/edu/languages/google-python-class/images/puzzle/p-bafj-bbjf.jpg\n",
        "http://code.google.com/edu/languages/google-python-class/images/puzzle/p-bagd-bagg.jpg\n",
        "http://code.google.com/edu/languages/google-python-class/images/puzzle/p-bagf-bbcd.jpg\n",
        "http://code.google.com/edu/languages/google-python-class/images/puzzle/p-bagf-bbhg.jpg\n",
        "http://code.google.com/edu/languages/google-python-class/images/puzzle/p-bagi-bbda.jpg\n",
        "http://code.google.com/edu/languages/google-python-class/images/puzzle/p-baig-badj.jpg\n",
        "http://code.google.com/edu/languages/google-python-class/images/puzzle/p-bajh-baai.jpg\n",
        "http://code.google.com/edu/languages/google-python-class/images/puzzle/p-bbbc-bbdi.jpg\n",
        "http://code.google.com/edu/languages/google-python-class/images/puzzle/p-bbdf-baag.jpg\n",
        "http://code.google.com/edu/languages/google-python-class/images/puzzle/p-bbeh-bbce.jpg\n",
        "http://code.google.com/edu/languages/google-python-class/images/puzzle/p-bbeh-bbdd.jpg\n",
        "http://code.google.com/edu/languages/google-python-class/images/puzzle/p-bbeh-bbhd.jpg\n",
        "http://code.google.com/edu/languages/google-python-class/images/puzzle/p-bbfb-bbga.jpg\n",
        "http://code.google.com/edu/languages/google-python-class/images/puzzle/p-bbff-bbfd.jpg\n",
        "http://code.google.com/edu/languages/google-python-class/images/puzzle/p-bbfh-baji.jpg\n",
        "http://code.google.com/edu/languages/google-python-class/images/puzzle/p-bbgi-bbah.jpg\n",
        "http://code.google.com/edu/languages/google-python-class/images/puzzle/p-bbhe-bahg.jpg\n",
        "http://code.google.com/edu/languages/google-python-class/images/puzzle/p-bbhh-bbfc.jpg\n",
        "http://code.google.com/edu/languages/google-python-class/images/puzzle/p-bbia-bafi.jpg\n",
        "http://code.google.com/edu/languages/google-python-class/images/puzzle/p-bbij-bbed.jpg\n",
        "http://code.google.com/edu/languages/google-python-class/images/puzzle/p-bbja-bagh.jpg\n",
        "http://code.google.com/edu/languages/google-python-class/images/puzzle/p-bbjb-baja.jpg\n",
        "http://code.google.com/edu/languages/google-python-class/images/puzzle/p-bbjb-bbia.jpg\n",
        "http://code.google.com/edu/languages/google-python-class/images/puzzle/p-bbjd-baid.jpg\n",
        "http://code.google.com/edu/languages/google-python-class/images/puzzle/p-bbje-babi.jpg\n",
        "http://code.google.com/edu/languages/google-python-class/images/puzzle/p-bbjh-bacf.jpg\n",
        "http://code.google.com/edu/languages/google-python-class/images/puzzle/p-bbjh-bada.jpg\n",
        "http://code.google.com/edu/languages/google-python-class/images/puzzle/p-bbjh-bbca.jpg\n",
        "http://code.google.com/edu/languages/google-python-class/images/puzzle/p-bcba-baha.jpg\n",
        "http://code.google.com/edu/languages/google-python-class/images/puzzle/p-bcbc-bbeh.jpg\n",
        "http://code.google.com/edu/languages/google-python-class/images/puzzle/p-bcbe-bbjh.jpg\n",
        "http://code.google.com/edu/languages/google-python-class/images/puzzle/p-bcbi-bbfa.jpg\n",
        "http://code.google.com/edu/languages/google-python-class/images/puzzle/p-bcca-bbfi.jpg\n",
        "http://code.google.com/edu/languages/google-python-class/images/puzzle/p-bccc-bbdc.jpg\n",
        "http://code.google.com/edu/languages/google-python-class/images/puzzle/p-bccd-bbha.jpg\n",
        "http://code.google.com/edu/languages/google-python-class/images/puzzle/p-bcch-bagf.jpg\n",
        "http://code.google.com/edu/languages/google-python-class/images/puzzle/p-bcda-bbdf.jpg\n",
        "http://code.google.com/edu/languages/google-python-class/images/puzzle/p-bcdc-bbee.jpg\n",
        "http://code.google.com/edu/languages/google-python-class/images/puzzle/p-bcdj-bbge.jpg\n",
        "http://code.google.com/edu/languages/google-python-class/images/puzzle/p-bcee-bajb.jpg\n",
        "http://code.google.com/edu/languages/google-python-class/images/puzzle/p-bcfd-bbaf.jpg\n",
        "http://code.google.com/edu/languages/google-python-class/images/puzzle/p-bcgj-baih.jpg\n",
        "http://code.google.com/edu/languages/google-python-class/images/puzzle/p-bchb-badb.jpg\n",
        "http://code.google.com/edu/languages/google-python-class/images/puzzle/p-bchd-baga.jpg\n",
        "http://code.google.com/edu/languages/google-python-class/images/puzzle/p-bchf-bbfg.jpg\n",
        "http://code.google.com/edu/languages/google-python-class/images/puzzle/p-bcib-bacb.jpg\n",
        "http://code.google.com/edu/languages/google-python-class/images/puzzle/p-bcif-babc.jpg\n",
        "http://code.google.com/edu/languages/google-python-class/images/puzzle/p-bcjc-bbae.jpg\n",
        "http://code.google.com/edu/languages/google-python-class/images/puzzle/p-bcjj-bbba.jpg\n",
        "http://code.google.com/edu/languages/google-python-class/images/puzzle/p-bdae-badi.jpg\n",
        "http://code.google.com/edu/languages/google-python-class/images/puzzle/p-bdbe-baib.jpg\n",
        "http://code.google.com/edu/languages/google-python-class/images/puzzle/p-bdcg-babe.jpg\n",
        "http://code.google.com/edu/languages/google-python-class/images/puzzle/p-bdcg-bbid.jpg\n",
        "http://code.google.com/edu/languages/google-python-class/images/puzzle/p-bddf-babg.jpg\n",
        "http://code.google.com/edu/languages/google-python-class/images/puzzle/p-bddg-bbhi.jpg\n",
        "http://code.google.com/edu/languages/google-python-class/images/puzzle/p-bdej-bafj.jpg\n",
        "http://code.google.com/edu/languages/google-python-class/images/puzzle/p-bdfb-baca.jpg\n",
        "http://code.google.com/edu/languages/google-python-class/images/puzzle/p-bdfh-baad.jpg\n",
        "http://code.google.com/edu/languages/google-python-class/images/puzzle/p-bdjh-baeh.jpg\n",
        "http://code.google.com/edu/languages/google-python-class/images/puzzle/p-bdjj-bagb.jpg\n",
        "http://code.google.com/edu/languages/google-python-class/images/puzzle/p-bdjj-bbej.jpg\n",
        "http://code.google.com/edu/languages/google-python-class/images/puzzle/p-beaa-bbhe.jpg\n",
        "http://code.google.com/edu/languages/google-python-class/images/puzzle/p-beab-bbbd.jpg\n",
        "http://code.google.com/edu/languages/google-python-class/images/puzzle/p-beab-bbie.jpg\n",
        "http://code.google.com/edu/languages/google-python-class/images/puzzle/p-beae-baig.jpg\n",
        "http://code.google.com/edu/languages/google-python-class/images/puzzle/p-beaf-baie.jpg\n",
        "http://code.google.com/edu/languages/google-python-class/images/puzzle/p-beaj-baia.jpg\n",
        "http://code.google.com/edu/languages/google-python-class/images/puzzle/p-beba-baeb.jpg\n",
        "http://code.google.com/edu/languages/google-python-class/images/puzzle/p-bebd-bbch.jpg\n",
        "http://code.google.com/edu/languages/google-python-class/images/puzzle/p-beca-bbdg.jpg\n",
        "http://code.google.com/edu/languages/google-python-class/images/puzzle/p-bech-bach.jpg\n",
        "http://code.google.com/edu/languages/google-python-class/images/puzzle/p-bedg-bage.jpg\n",
        "http://code.google.com/edu/languages/google-python-class/images/puzzle/p-beff-bajj.jpg\n",
        "http://code.google.com/edu/languages/google-python-class/images/puzzle/p-befj-bahh.jpg\n",
        "http://code.google.com/edu/languages/google-python-class/images/puzzle/p-begh-baaj.jpg\n",
        "http://code.google.com/edu/languages/google-python-class/images/puzzle/p-begj-baac.jpg\n",
        "http://code.google.com/edu/languages/google-python-class/images/puzzle/p-behb-bbfb.jpg\n",
        "http://code.google.com/edu/languages/google-python-class/images/puzzle/p-behf-bajd.jpg\n",
        "http://code.google.com/edu/languages/google-python-class/images/puzzle/p-behh-baij.jpg\n",
        "http://code.google.com/edu/languages/google-python-class/images/puzzle/p-behi-baif.jpg\n",
        "http://code.google.com/edu/languages/google-python-class/images/puzzle/p-beie-babf.jpg\n",
        "http://code.google.com/edu/languages/google-python-class/images/puzzle/p-beif-bbei.jpg\n",
        "http://code.google.com/edu/languages/google-python-class/images/puzzle/p-beii-badg.jpg\n",
        "http://code.google.com/edu/languages/google-python-class/images/puzzle/p-beij-bbcg.jpg\n",
        "http://code.google.com/edu/languages/google-python-class/images/puzzle/p-bejg-bacc.jpg\n",
        "http://code.google.com/edu/languages/google-python-class/images/puzzle/p-bejg-baef.jpg\n",
        "http://code.google.com/edu/languages/google-python-class/images/puzzle/p-bfbf-bbci.jpg\n",
        "http://code.google.com/edu/languages/google-python-class/images/puzzle/p-bfdj-bagc.jpg\n",
        "http://code.google.com/edu/languages/google-python-class/images/puzzle/p-bffc-bbje.jpg\n",
        "http://code.google.com/edu/languages/google-python-class/images/puzzle/p-bffd-bbag.jpg\n",
        "http://code.google.com/edu/languages/google-python-class/images/puzzle/p-bfga-bace.jpg\n",
        "http://code.google.com/edu/languages/google-python-class/images/puzzle/p-bfhb-baae.jpg\n",
        "http://code.google.com/edu/languages/google-python-class/images/puzzle/p-bfhd-bbab.jpg\n",
        "http://code.google.com/edu/languages/google-python-class/images/puzzle/p-bfhh-bahj.jpg\n",
        "http://code.google.com/edu/languages/google-python-class/images/puzzle/p-bfhi-bafg.jpg\n",
        "http://code.google.com/edu/languages/google-python-class/images/puzzle/p-bfhj-badc.jpg\n",
        "http://code.google.com/edu/languages/google-python-class/images/puzzle/p-bfjd-bbjb.jpg\n",
        "http://code.google.com/edu/languages/google-python-class/images/puzzle/p-bfjj-bagi.jpg\n",
        "http://code.google.com/edu/languages/google-python-class/images/puzzle/p-bgaf-bacg.jpg\n",
        "http://code.google.com/edu/languages/google-python-class/images/puzzle/p-bgcc-bbcf.jpg\n",
        "http://code.google.com/edu/languages/google-python-class/images/puzzle/p-bgce-bade.jpg\n",
        "http://code.google.com/edu/languages/google-python-class/images/puzzle/p-bgcf-bbef.jpg\n",
        "http://code.google.com/edu/languages/google-python-class/images/puzzle/p-bgcf-bbib.jpg\n",
        "http://code.google.com/edu/languages/google-python-class/images/puzzle/p-bgdg-baej.jpg\n",
        "http://code.google.com/edu/languages/google-python-class/images/puzzle/p-bgeb-baah.jpg\n",
        "http://code.google.com/edu/languages/google-python-class/images/puzzle/p-bgec-bbbh.jpg\n",
        "http://code.google.com/edu/languages/google-python-class/images/puzzle/p-bgee-baic.jpg\n",
        "http://code.google.com/edu/languages/google-python-class/images/puzzle/p-bgef-bbai.jpg\n",
        "http://code.google.com/edu/languages/google-python-class/images/puzzle/p-bgef-bbij.jpg\n",
        "http://code.google.com/edu/languages/google-python-class/images/puzzle/p-bgeh-bbgj.jpg\n",
        "http://code.google.com/edu/languages/google-python-class/images/puzzle/p-bgei-bbcb.jpg\n",
        "http://code.google.com/edu/languages/google-python-class/images/puzzle/p-bgfe-bafd.jpg\n",
        "http://code.google.com/edu/languages/google-python-class/images/puzzle/p-bggb-bbhj.jpg\n",
        "http://code.google.com/edu/languages/google-python-class/images/puzzle/p-bghb-bajf.jpg\n",
        "http://code.google.com/edu/languages/google-python-class/images/puzzle/p-bghb-bbfe.jpg\n",
        "http://code.google.com/edu/languages/google-python-class/images/puzzle/p-bghd-bahe.jpg\n",
        "http://code.google.com/edu/languages/google-python-class/images/puzzle/p-bgib-bbbj.jpg\n",
        "http://code.google.com/edu/languages/google-python-class/images/puzzle/p-bgjb-baff.jpg\n",
        "http://code.google.com/edu/languages/google-python-class/images/puzzle/p-bgjg-bbgc.jpg\n",
        "http://code.google.com/edu/languages/google-python-class/images/puzzle/p-bgjg-bbhb.jpg\n",
        "http://code.google.com/edu/languages/google-python-class/images/puzzle/p-bhaj-bahf.jpg\n",
        "http://code.google.com/edu/languages/google-python-class/images/puzzle/p-bhbd-bahi.jpg\n",
        "http://code.google.com/edu/languages/google-python-class/images/puzzle/p-bhbj-baab.jpg\n",
        "http://code.google.com/edu/languages/google-python-class/images/puzzle/p-bhdb-bbii.jpg\n",
        "http://code.google.com/edu/languages/google-python-class/images/puzzle/p-bhdd-babb.jpg\n",
        "http://code.google.com/edu/languages/google-python-class/images/puzzle/p-bhdf-bbjj.jpg\n",
        "http://code.google.com/edu/languages/google-python-class/images/puzzle/p-bhdg-bbhh.jpg\n",
        "http://code.google.com/edu/languages/google-python-class/images/puzzle/p-bhdj-bahc.jpg\n",
        "http://code.google.com/edu/languages/google-python-class/images/puzzle/p-bhgh-bbaj.jpg\n",
        "http://code.google.com/edu/languages/google-python-class/images/puzzle/p-bhgi-bbgb.jpg\n",
        "http://code.google.com/edu/languages/google-python-class/images/puzzle/p-bhha-bacd.jpg\n",
        "http://code.google.com/edu/languages/google-python-class/images/puzzle/p-bhhe-bahd.jpg\n",
        "http://code.google.com/edu/languages/google-python-class/images/puzzle/p-bhhi-baaf.jpg\n",
        "http://code.google.com/edu/languages/google-python-class/images/puzzle/p-bhih-bbde.jpg\n",
        "http://code.google.com/edu/languages/google-python-class/images/puzzle/p-bhii-bajh.jpg\n",
        "http://code.google.com/edu/languages/google-python-class/images/puzzle/p-biad-bbig.jpg\n",
        "http://code.google.com/edu/languages/google-python-class/images/puzzle/p-biai-bacj.jpg\n",
        "http://code.google.com/edu/languages/google-python-class/images/puzzle/p-bica-bbeb.jpg\n",
        "http://code.google.com/edu/languages/google-python-class/images/puzzle/p-bicc-bbeg.jpg\n",
        "http://code.google.com/edu/languages/google-python-class/images/puzzle/p-bicd-bbbb.jpg\n",
        "http://code.google.com/edu/languages/google-python-class/images/puzzle/p-bicf-bafc.jpg\n",
        "http://code.google.com/edu/languages/google-python-class/images/puzzle/p-bida-baed.jpg\n",
        "http://code.google.com/edu/languages/google-python-class/images/puzzle/p-bidf-bbhf.jpg\n",
        "http://code.google.com/edu/languages/google-python-class/images/puzzle/p-bidg-bbcc.jpg\n",
        "http://code.google.com/edu/languages/google-python-class/images/puzzle/p-biec-bbbe.jpg\n",
        "http://code.google.com/edu/languages/google-python-class/images/puzzle/p-bifb-baje.jpg\n",
        "http://code.google.com/edu/languages/google-python-class/images/puzzle/p-bifh-bbaa.jpg\n",
        "http://code.google.com/edu/languages/google-python-class/images/puzzle/p-bigb-baba.jpg\n",
        "http://code.google.com/edu/languages/google-python-class/images/puzzle/p-bigg-bbgg.jpg\n",
        "http://code.google.com/edu/languages/google-python-class/images/puzzle/p-bigj-bbgh.jpg\n",
        "http://code.google.com/edu/languages/google-python-class/images/puzzle/p-bigj-bbji.jpg\n",
        "http://code.google.com/edu/languages/google-python-class/images/puzzle/p-bihb-bagj.jpg\n",
        "http://code.google.com/edu/languages/google-python-class/images/puzzle/p-bihd-babd.jpg\n",
        "http://code.google.com/edu/languages/google-python-class/images/puzzle/p-bihf-bbgd.jpg\n",
        "http://code.google.com/edu/languages/google-python-class/images/puzzle/p-biic-bafa.jpg\n",
        "http://code.google.com/edu/languages/google-python-class/images/puzzle/p-biig-bbbi.jpg\n",
        "http://code.google.com/edu/languages/google-python-class/images/puzzle/p-biih-bahb.jpg\n",
        "http://code.google.com/edu/languages/google-python-class/images/puzzle/p-bija-baei.jpg\n",
        "http://code.google.com/edu/languages/google-python-class/images/puzzle/p-bija-bbff.jpg\n",
        "http://code.google.com/edu/languages/google-python-class/images/puzzle/p-biji-badd.jpg\n",
        "http://code.google.com/edu/languages/google-python-class/images/puzzle/p-bjab-bbih.jpg\n",
        "http://code.google.com/edu/languages/google-python-class/images/puzzle/p-bjag-badf.jpg\n",
        "http://code.google.com/edu/languages/google-python-class/images/puzzle/p-bjag-badh.jpg\n",
        "http://code.google.com/edu/languages/google-python-class/images/puzzle/p-bjba-bbcj.jpg\n",
        "http://code.google.com/edu/languages/google-python-class/images/puzzle/p-bjbc-bbec.jpg\n",
        "http://code.google.com/edu/languages/google-python-class/images/puzzle/p-bjbd-bbgf.jpg\n",
        "http://code.google.com/edu/languages/google-python-class/images/puzzle/p-bjcd-bafb.jpg\n",
        "http://code.google.com/edu/languages/google-python-class/images/puzzle/p-bjcd-bbbf.jpg\n",
        "http://code.google.com/edu/languages/google-python-class/images/puzzle/p-bjcj-bbfh.jpg\n",
        "http://code.google.com/edu/languages/google-python-class/images/puzzle/p-bjdh-bagd.jpg\n",
        "http://code.google.com/edu/languages/google-python-class/images/puzzle/p-bjfg-baii.jpg\n",
        "http://code.google.com/edu/languages/google-python-class/images/puzzle/p-bjfh-bbif.jpg\n",
        "http://code.google.com/edu/languages/google-python-class/images/puzzle/p-bjge-babh.jpg\n",
        "http://code.google.com/edu/languages/google-python-class/images/puzzle/p-bjgf-bafh.jpg\n",
        "http://code.google.com/edu/languages/google-python-class/images/puzzle/p-bjgi-baea.jpg\n",
        "http://code.google.com/edu/languages/google-python-class/images/puzzle/p-bjhc-bbdj.jpg\n",
        "http://code.google.com/edu/languages/google-python-class/images/puzzle/p-bjhd-bbjg.jpg\n",
        "http://code.google.com/edu/languages/google-python-class/images/puzzle/p-bjhh-bbdh.jpg\n",
        "http://code.google.com/edu/languages/google-python-class/images/puzzle/p-bjic-bbhc.jpg\n",
        "http://code.google.com/edu/languages/google-python-class/images/puzzle/p-bjja-baeg.jpg\n",
        "http://code.google.com/edu/languages/google-python-class/images/puzzle/p-bjjc-bbjd.jpg\n"
       ]
      }
     ],
     "prompt_number": 48
    },
    {
     "cell_type": "code",
     "collapsed": false,
     "input": [
      "try:\n",
      "    path = os.path.abspath('tmp')\n",
      "    os.mkdir(path)\n",
      "except OSError,e:\n",
      "    if e.errno==13:\n",
      "        print \"Can't create : Permission Denied\"\n",
      "count=0      \n",
      "total = len(puzzleLinks)\n",
      "fyle=open(path+'/index.html','w')\n",
      "fyle.write('<verbatim>\\n<html>\\n<body>\\n')\n",
      "\n",
      "print \"Downloadin Images\"\n",
      "for puzzleLink in puzzleLinks:\n",
      "    \n",
      "    fyle.write('<img src=\"')\n",
      "    urllib.urlretrieve(puzzleLink,path+'/img'+str(count))\n",
      "    fyle.write(path+'/img'+str(count))\n",
      "    fyle.write('\">')\n",
      "    count+=1\n",
      "    percent=(count*100)/total\n",
      "    print \"\\t %d%%\"%(percent),\n",
      "\n",
      "fyle.write('\\n</body>\\n</html>')    \n",
      "fyle.close()\n",
      "print \"\\nOK\"    \n",
      "    \n"
     ],
     "language": "python",
     "metadata": {},
     "outputs": [
      {
       "output_type": "stream",
       "stream": "stdout",
       "text": [
        "Downloadin Images\n",
        "\t 0%"
       ]
      },
      {
       "output_type": "stream",
       "stream": "stdout",
       "text": [
        " \t 1% "
       ]
      },
      {
       "output_type": "stream",
       "stream": "stdout",
       "text": [
        "\t 1% "
       ]
      },
      {
       "output_type": "stream",
       "stream": "stdout",
       "text": [
        "\t 2% "
       ]
      },
      {
       "output_type": "stream",
       "stream": "stdout",
       "text": [
        "\t 2% "
       ]
      },
      {
       "output_type": "stream",
       "stream": "stdout",
       "text": [
        "\t 3% "
       ]
      },
      {
       "output_type": "stream",
       "stream": "stdout",
       "text": [
        "\t 3% "
       ]
      },
      {
       "output_type": "stream",
       "stream": "stdout",
       "text": [
        "\t 4% "
       ]
      },
      {
       "output_type": "stream",
       "stream": "stdout",
       "text": [
        "\t 4% "
       ]
      },
      {
       "output_type": "stream",
       "stream": "stdout",
       "text": [
        "\t 5% "
       ]
      },
      {
       "output_type": "stream",
       "stream": "stdout",
       "text": [
        "\t 5% "
       ]
      },
      {
       "output_type": "stream",
       "stream": "stdout",
       "text": [
        "\t 6% "
       ]
      },
      {
       "output_type": "stream",
       "stream": "stdout",
       "text": [
        "\t 6% "
       ]
      },
      {
       "output_type": "stream",
       "stream": "stdout",
       "text": [
        "\t 7% "
       ]
      },
      {
       "output_type": "stream",
       "stream": "stdout",
       "text": [
        "\t 7% "
       ]
      },
      {
       "output_type": "stream",
       "stream": "stdout",
       "text": [
        "\t 8% "
       ]
      },
      {
       "output_type": "stream",
       "stream": "stdout",
       "text": [
        "\t 8% "
       ]
      },
      {
       "output_type": "stream",
       "stream": "stdout",
       "text": [
        "\t 9% "
       ]
      },
      {
       "output_type": "stream",
       "stream": "stdout",
       "text": [
        "\t 9% "
       ]
      },
      {
       "output_type": "stream",
       "stream": "stdout",
       "text": [
        "\t 10% "
       ]
      },
      {
       "output_type": "stream",
       "stream": "stdout",
       "text": [
        "\t 10% "
       ]
      },
      {
       "output_type": "stream",
       "stream": "stdout",
       "text": [
        "\t 11% "
       ]
      },
      {
       "output_type": "stream",
       "stream": "stdout",
       "text": [
        "\t 11% "
       ]
      },
      {
       "output_type": "stream",
       "stream": "stdout",
       "text": [
        "\t 12% "
       ]
      },
      {
       "output_type": "stream",
       "stream": "stdout",
       "text": [
        "\t 12% "
       ]
      },
      {
       "output_type": "stream",
       "stream": "stdout",
       "text": [
        "\t 13% "
       ]
      },
      {
       "output_type": "stream",
       "stream": "stdout",
       "text": [
        "\t 13% "
       ]
      },
      {
       "output_type": "stream",
       "stream": "stdout",
       "text": [
        "\t 14% "
       ]
      },
      {
       "output_type": "stream",
       "stream": "stdout",
       "text": [
        "\t 14% "
       ]
      },
      {
       "output_type": "stream",
       "stream": "stdout",
       "text": [
        "\t 15% "
       ]
      },
      {
       "output_type": "stream",
       "stream": "stdout",
       "text": [
        "\t 15% "
       ]
      },
      {
       "output_type": "stream",
       "stream": "stdout",
       "text": [
        "\t 16% "
       ]
      },
      {
       "output_type": "stream",
       "stream": "stdout",
       "text": [
        "\t 16% "
       ]
      },
      {
       "output_type": "stream",
       "stream": "stdout",
       "text": [
        "\t 17% "
       ]
      },
      {
       "output_type": "stream",
       "stream": "stdout",
       "text": [
        "\t 17% "
       ]
      },
      {
       "output_type": "stream",
       "stream": "stdout",
       "text": [
        "\t 18% "
       ]
      },
      {
       "output_type": "stream",
       "stream": "stdout",
       "text": [
        "\t 18% "
       ]
      },
      {
       "output_type": "stream",
       "stream": "stdout",
       "text": [
        "\t 19% "
       ]
      },
      {
       "output_type": "stream",
       "stream": "stdout",
       "text": [
        "\t 19% "
       ]
      },
      {
       "output_type": "stream",
       "stream": "stdout",
       "text": [
        "\t 20% "
       ]
      },
      {
       "output_type": "stream",
       "stream": "stdout",
       "text": [
        "\t 20% "
       ]
      },
      {
       "output_type": "stream",
       "stream": "stdout",
       "text": [
        "\t 21% "
       ]
      },
      {
       "output_type": "stream",
       "stream": "stdout",
       "text": [
        "\t 21% "
       ]
      },
      {
       "output_type": "stream",
       "stream": "stdout",
       "text": [
        "\t 22% "
       ]
      },
      {
       "output_type": "stream",
       "stream": "stdout",
       "text": [
        "\t 22% "
       ]
      },
      {
       "output_type": "stream",
       "stream": "stdout",
       "text": [
        "\t 23% "
       ]
      },
      {
       "output_type": "stream",
       "stream": "stdout",
       "text": [
        "\t 23% "
       ]
      },
      {
       "output_type": "stream",
       "stream": "stdout",
       "text": [
        "\t 24% "
       ]
      },
      {
       "output_type": "stream",
       "stream": "stdout",
       "text": [
        "\t 24% "
       ]
      },
      {
       "output_type": "stream",
       "stream": "stdout",
       "text": [
        "\t 25% "
       ]
      },
      {
       "output_type": "stream",
       "stream": "stdout",
       "text": [
        "\t 25% "
       ]
      },
      {
       "output_type": "stream",
       "stream": "stdout",
       "text": [
        "\t 26% "
       ]
      },
      {
       "output_type": "stream",
       "stream": "stdout",
       "text": [
        "\t 26% "
       ]
      },
      {
       "output_type": "stream",
       "stream": "stdout",
       "text": [
        "\t 27% "
       ]
      },
      {
       "output_type": "stream",
       "stream": "stdout",
       "text": [
        "\t 27% "
       ]
      },
      {
       "output_type": "stream",
       "stream": "stdout",
       "text": [
        "\t 28% "
       ]
      },
      {
       "output_type": "stream",
       "stream": "stdout",
       "text": [
        "\t 28% "
       ]
      },
      {
       "output_type": "stream",
       "stream": "stdout",
       "text": [
        "\t 29% "
       ]
      },
      {
       "output_type": "stream",
       "stream": "stdout",
       "text": [
        "\t 29% "
       ]
      },
      {
       "output_type": "stream",
       "stream": "stdout",
       "text": [
        "\t 30% "
       ]
      },
      {
       "output_type": "stream",
       "stream": "stdout",
       "text": [
        "\t 30% "
       ]
      },
      {
       "output_type": "stream",
       "stream": "stdout",
       "text": [
        "\t 31% "
       ]
      },
      {
       "output_type": "stream",
       "stream": "stdout",
       "text": [
        "\t 31% "
       ]
      },
      {
       "output_type": "stream",
       "stream": "stdout",
       "text": [
        "\t 32% "
       ]
      },
      {
       "output_type": "stream",
       "stream": "stdout",
       "text": [
        "\t 32% "
       ]
      },
      {
       "output_type": "stream",
       "stream": "stdout",
       "text": [
        "\t 33% "
       ]
      },
      {
       "output_type": "stream",
       "stream": "stdout",
       "text": [
        "\t 33% "
       ]
      },
      {
       "output_type": "stream",
       "stream": "stdout",
       "text": [
        "\t 34% "
       ]
      },
      {
       "output_type": "stream",
       "stream": "stdout",
       "text": [
        "\t 34% "
       ]
      },
      {
       "output_type": "stream",
       "stream": "stdout",
       "text": [
        "\t 35% "
       ]
      },
      {
       "output_type": "stream",
       "stream": "stdout",
       "text": [
        "\t 35% "
       ]
      },
      {
       "output_type": "stream",
       "stream": "stdout",
       "text": [
        "\t 36% "
       ]
      },
      {
       "output_type": "stream",
       "stream": "stdout",
       "text": [
        "\t 36% "
       ]
      },
      {
       "output_type": "stream",
       "stream": "stdout",
       "text": [
        "\t 37% "
       ]
      },
      {
       "output_type": "stream",
       "stream": "stdout",
       "text": [
        "\t 37% "
       ]
      },
      {
       "output_type": "stream",
       "stream": "stdout",
       "text": [
        "\t 38% "
       ]
      },
      {
       "output_type": "stream",
       "stream": "stdout",
       "text": [
        "\t 38% "
       ]
      },
      {
       "output_type": "stream",
       "stream": "stdout",
       "text": [
        "\t 39% "
       ]
      },
      {
       "output_type": "stream",
       "stream": "stdout",
       "text": [
        "\t 39% "
       ]
      },
      {
       "output_type": "stream",
       "stream": "stdout",
       "text": [
        "\t 40% "
       ]
      },
      {
       "output_type": "stream",
       "stream": "stdout",
       "text": [
        "\t 40% "
       ]
      },
      {
       "output_type": "stream",
       "stream": "stdout",
       "text": [
        "\t 41% "
       ]
      },
      {
       "output_type": "stream",
       "stream": "stdout",
       "text": [
        "\t 41% "
       ]
      },
      {
       "output_type": "stream",
       "stream": "stdout",
       "text": [
        "\t 42% "
       ]
      },
      {
       "output_type": "stream",
       "stream": "stdout",
       "text": [
        "\t 42% "
       ]
      },
      {
       "output_type": "stream",
       "stream": "stdout",
       "text": [
        "\t 43% "
       ]
      },
      {
       "output_type": "stream",
       "stream": "stdout",
       "text": [
        "\t 43% "
       ]
      },
      {
       "output_type": "stream",
       "stream": "stdout",
       "text": [
        "\t 44% "
       ]
      },
      {
       "output_type": "stream",
       "stream": "stdout",
       "text": [
        "\t 44% "
       ]
      },
      {
       "output_type": "stream",
       "stream": "stdout",
       "text": [
        "\t 45% "
       ]
      },
      {
       "output_type": "stream",
       "stream": "stdout",
       "text": [
        "\t 45% "
       ]
      },
      {
       "output_type": "stream",
       "stream": "stdout",
       "text": [
        "\t 46% "
       ]
      },
      {
       "output_type": "stream",
       "stream": "stdout",
       "text": [
        "\t 46% "
       ]
      },
      {
       "output_type": "stream",
       "stream": "stdout",
       "text": [
        "\t 47% "
       ]
      },
      {
       "output_type": "stream",
       "stream": "stdout",
       "text": [
        "\t 47% "
       ]
      },
      {
       "output_type": "stream",
       "stream": "stdout",
       "text": [
        "\t 48% "
       ]
      },
      {
       "output_type": "stream",
       "stream": "stdout",
       "text": [
        "\t 48% "
       ]
      },
      {
       "output_type": "stream",
       "stream": "stdout",
       "text": [
        "\t 49% "
       ]
      },
      {
       "output_type": "stream",
       "stream": "stdout",
       "text": [
        "\t 49% "
       ]
      },
      {
       "output_type": "stream",
       "stream": "stdout",
       "text": [
        "\t 50% "
       ]
      },
      {
       "output_type": "stream",
       "stream": "stdout",
       "text": [
        "\t 50% "
       ]
      },
      {
       "output_type": "stream",
       "stream": "stdout",
       "text": [
        "\t 51% "
       ]
      },
      {
       "output_type": "stream",
       "stream": "stdout",
       "text": [
        "\t 51% "
       ]
      },
      {
       "output_type": "stream",
       "stream": "stdout",
       "text": [
        "\t 52% "
       ]
      },
      {
       "output_type": "stream",
       "stream": "stdout",
       "text": [
        "\t 52% "
       ]
      },
      {
       "output_type": "stream",
       "stream": "stdout",
       "text": [
        "\t 53% "
       ]
      },
      {
       "output_type": "stream",
       "stream": "stdout",
       "text": [
        "\t 53% "
       ]
      },
      {
       "output_type": "stream",
       "stream": "stdout",
       "text": [
        "\t 54% "
       ]
      },
      {
       "output_type": "stream",
       "stream": "stdout",
       "text": [
        "\t 54% "
       ]
      },
      {
       "output_type": "stream",
       "stream": "stdout",
       "text": [
        "\t 55% "
       ]
      },
      {
       "output_type": "stream",
       "stream": "stdout",
       "text": [
        "\t 55% "
       ]
      },
      {
       "output_type": "stream",
       "stream": "stdout",
       "text": [
        "\t 56% "
       ]
      },
      {
       "output_type": "stream",
       "stream": "stdout",
       "text": [
        "\t 56% "
       ]
      },
      {
       "output_type": "stream",
       "stream": "stdout",
       "text": [
        "\t 57% "
       ]
      },
      {
       "output_type": "stream",
       "stream": "stdout",
       "text": [
        "\t 57% "
       ]
      },
      {
       "output_type": "stream",
       "stream": "stdout",
       "text": [
        "\t 58% "
       ]
      },
      {
       "output_type": "stream",
       "stream": "stdout",
       "text": [
        "\t 58% "
       ]
      },
      {
       "output_type": "stream",
       "stream": "stdout",
       "text": [
        "\t 59% "
       ]
      },
      {
       "output_type": "stream",
       "stream": "stdout",
       "text": [
        "\t 59% "
       ]
      },
      {
       "output_type": "stream",
       "stream": "stdout",
       "text": [
        "\t 60% "
       ]
      },
      {
       "output_type": "stream",
       "stream": "stdout",
       "text": [
        "\t 60% "
       ]
      },
      {
       "output_type": "stream",
       "stream": "stdout",
       "text": [
        "\t 61% "
       ]
      },
      {
       "output_type": "stream",
       "stream": "stdout",
       "text": [
        "\t 61% "
       ]
      },
      {
       "output_type": "stream",
       "stream": "stdout",
       "text": [
        "\t 62% "
       ]
      },
      {
       "output_type": "stream",
       "stream": "stdout",
       "text": [
        "\t 62% "
       ]
      },
      {
       "output_type": "stream",
       "stream": "stdout",
       "text": [
        "\t 63% "
       ]
      },
      {
       "output_type": "stream",
       "stream": "stdout",
       "text": [
        "\t 63% "
       ]
      },
      {
       "output_type": "stream",
       "stream": "stdout",
       "text": [
        "\t 64% "
       ]
      },
      {
       "output_type": "stream",
       "stream": "stdout",
       "text": [
        "\t 64% "
       ]
      },
      {
       "output_type": "stream",
       "stream": "stdout",
       "text": [
        "\t 65% "
       ]
      },
      {
       "output_type": "stream",
       "stream": "stdout",
       "text": [
        "\t 65% "
       ]
      },
      {
       "output_type": "stream",
       "stream": "stdout",
       "text": [
        "\t 66% "
       ]
      },
      {
       "output_type": "stream",
       "stream": "stdout",
       "text": [
        "\t 66% "
       ]
      },
      {
       "output_type": "stream",
       "stream": "stdout",
       "text": [
        "\t 67% "
       ]
      },
      {
       "output_type": "stream",
       "stream": "stdout",
       "text": [
        "\t 67% "
       ]
      },
      {
       "output_type": "stream",
       "stream": "stdout",
       "text": [
        "\t 68% "
       ]
      },
      {
       "output_type": "stream",
       "stream": "stdout",
       "text": [
        "\t 68% "
       ]
      },
      {
       "output_type": "stream",
       "stream": "stdout",
       "text": [
        "\t 69% "
       ]
      },
      {
       "output_type": "stream",
       "stream": "stdout",
       "text": [
        "\t 69% "
       ]
      },
      {
       "output_type": "stream",
       "stream": "stdout",
       "text": [
        "\t 70% "
       ]
      },
      {
       "output_type": "stream",
       "stream": "stdout",
       "text": [
        "\t 70% "
       ]
      },
      {
       "output_type": "stream",
       "stream": "stdout",
       "text": [
        "\t 71% "
       ]
      },
      {
       "output_type": "stream",
       "stream": "stdout",
       "text": [
        "\t 71% "
       ]
      },
      {
       "output_type": "stream",
       "stream": "stdout",
       "text": [
        "\t 72% "
       ]
      },
      {
       "output_type": "stream",
       "stream": "stdout",
       "text": [
        "\t 72% "
       ]
      },
      {
       "output_type": "stream",
       "stream": "stdout",
       "text": [
        "\t 73% "
       ]
      },
      {
       "output_type": "stream",
       "stream": "stdout",
       "text": [
        "\t 73% "
       ]
      },
      {
       "output_type": "stream",
       "stream": "stdout",
       "text": [
        "\t 74% "
       ]
      },
      {
       "output_type": "stream",
       "stream": "stdout",
       "text": [
        "\t 74% "
       ]
      },
      {
       "output_type": "stream",
       "stream": "stdout",
       "text": [
        "\t 75% "
       ]
      },
      {
       "output_type": "stream",
       "stream": "stdout",
       "text": [
        "\t 75% "
       ]
      },
      {
       "output_type": "stream",
       "stream": "stdout",
       "text": [
        "\t 76% "
       ]
      },
      {
       "output_type": "stream",
       "stream": "stdout",
       "text": [
        "\t 76% "
       ]
      },
      {
       "output_type": "stream",
       "stream": "stdout",
       "text": [
        "\t 77% "
       ]
      },
      {
       "output_type": "stream",
       "stream": "stdout",
       "text": [
        "\t 77% "
       ]
      },
      {
       "output_type": "stream",
       "stream": "stdout",
       "text": [
        "\t 78% "
       ]
      },
      {
       "output_type": "stream",
       "stream": "stdout",
       "text": [
        "\t 78% "
       ]
      },
      {
       "output_type": "stream",
       "stream": "stdout",
       "text": [
        "\t 79% "
       ]
      },
      {
       "output_type": "stream",
       "stream": "stdout",
       "text": [
        "\t 79% "
       ]
      },
      {
       "output_type": "stream",
       "stream": "stdout",
       "text": [
        "\t 80% "
       ]
      },
      {
       "output_type": "stream",
       "stream": "stdout",
       "text": [
        "\t 80% "
       ]
      },
      {
       "output_type": "stream",
       "stream": "stdout",
       "text": [
        "\t 81% "
       ]
      },
      {
       "output_type": "stream",
       "stream": "stdout",
       "text": [
        "\t 81% "
       ]
      },
      {
       "output_type": "stream",
       "stream": "stdout",
       "text": [
        "\t 82% "
       ]
      },
      {
       "output_type": "stream",
       "stream": "stdout",
       "text": [
        "\t 82% "
       ]
      },
      {
       "output_type": "stream",
       "stream": "stdout",
       "text": [
        "\t 83% "
       ]
      },
      {
       "output_type": "stream",
       "stream": "stdout",
       "text": [
        "\t 83% "
       ]
      },
      {
       "output_type": "stream",
       "stream": "stdout",
       "text": [
        "\t 84% "
       ]
      },
      {
       "output_type": "stream",
       "stream": "stdout",
       "text": [
        "\t 84% "
       ]
      },
      {
       "output_type": "stream",
       "stream": "stdout",
       "text": [
        "\t 85% "
       ]
      },
      {
       "output_type": "stream",
       "stream": "stdout",
       "text": [
        "\t 85% "
       ]
      },
      {
       "output_type": "stream",
       "stream": "stdout",
       "text": [
        "\t 86% "
       ]
      },
      {
       "output_type": "stream",
       "stream": "stdout",
       "text": [
        "\t 86% "
       ]
      },
      {
       "output_type": "stream",
       "stream": "stdout",
       "text": [
        "\t 87% "
       ]
      },
      {
       "output_type": "stream",
       "stream": "stdout",
       "text": [
        "\t 87% "
       ]
      },
      {
       "output_type": "stream",
       "stream": "stdout",
       "text": [
        "\t 88% "
       ]
      },
      {
       "output_type": "stream",
       "stream": "stdout",
       "text": [
        "\t 88% "
       ]
      },
      {
       "output_type": "stream",
       "stream": "stdout",
       "text": [
        "\t 89% "
       ]
      },
      {
       "output_type": "stream",
       "stream": "stdout",
       "text": [
        "\t 89% "
       ]
      },
      {
       "output_type": "stream",
       "stream": "stdout",
       "text": [
        "\t 90% "
       ]
      },
      {
       "output_type": "stream",
       "stream": "stdout",
       "text": [
        "\t 90% "
       ]
      },
      {
       "output_type": "stream",
       "stream": "stdout",
       "text": [
        "\t 91% "
       ]
      },
      {
       "output_type": "stream",
       "stream": "stdout",
       "text": [
        "\t 91% "
       ]
      },
      {
       "output_type": "stream",
       "stream": "stdout",
       "text": [
        "\t 92% "
       ]
      },
      {
       "output_type": "stream",
       "stream": "stdout",
       "text": [
        "\t 92% "
       ]
      },
      {
       "output_type": "stream",
       "stream": "stdout",
       "text": [
        "\t 93% "
       ]
      },
      {
       "output_type": "stream",
       "stream": "stdout",
       "text": [
        "\t 93% "
       ]
      },
      {
       "output_type": "stream",
       "stream": "stdout",
       "text": [
        "\t 94% "
       ]
      },
      {
       "output_type": "stream",
       "stream": "stdout",
       "text": [
        "\t 94% "
       ]
      },
      {
       "output_type": "stream",
       "stream": "stdout",
       "text": [
        "\t 95% "
       ]
      },
      {
       "output_type": "stream",
       "stream": "stdout",
       "text": [
        "\t 95% "
       ]
      },
      {
       "output_type": "stream",
       "stream": "stdout",
       "text": [
        "\t 96% "
       ]
      },
      {
       "output_type": "stream",
       "stream": "stdout",
       "text": [
        "\t 96% "
       ]
      },
      {
       "output_type": "stream",
       "stream": "stdout",
       "text": [
        "\t 97% "
       ]
      },
      {
       "output_type": "stream",
       "stream": "stdout",
       "text": [
        "\t 97% "
       ]
      },
      {
       "output_type": "stream",
       "stream": "stdout",
       "text": [
        "\t 98% "
       ]
      },
      {
       "output_type": "stream",
       "stream": "stdout",
       "text": [
        "\t 98% "
       ]
      },
      {
       "output_type": "stream",
       "stream": "stdout",
       "text": [
        "\t 99% "
       ]
      },
      {
       "output_type": "stream",
       "stream": "stdout",
       "text": [
        "\t 99% "
       ]
      },
      {
       "output_type": "stream",
       "stream": "stdout",
       "text": [
        "\t 100% \n",
        "OK\n"
       ]
      }
     ],
     "prompt_number": 45
    },
    {
     "cell_type": "code",
     "collapsed": false,
     "input": [
      "link1='http://code.google.com/edu/languages/google-python-class/images/puzzle/a-baaa.jpg'\n",
      "    \n",
      "link2='http://code.google.com/edu/languages/google-python-class/images/puzzle/p-baah-bbic.jpg'"
     ],
     "language": "python",
     "metadata": {},
     "outputs": [],
     "prompt_number": 49
    },
    {
     "cell_type": "code",
     "collapsed": false,
     "input": [
      "match=re.search(r'-\\w\\w\\w\\w-(\\w\\w\\w\\w)',link2)\n",
      "match.group(1)"
     ],
     "language": "python",
     "metadata": {},
     "outputs": [
      {
       "metadata": {},
       "output_type": "pyout",
       "prompt_number": 56,
       "text": [
        "'bbic'"
       ]
      }
     ],
     "prompt_number": 56
    },
    {
     "cell_type": "code",
     "collapsed": false,
     "input": [
      "puzzleLinks[1]"
     ],
     "language": "python",
     "metadata": {},
     "outputs": [
      {
       "metadata": {},
       "output_type": "pyout",
       "prompt_number": 59,
       "text": [
        "'http://code.google.com/edu/languages/google-python-class/images/puzzle/p-babd-bbfj.jpg'"
       ]
      }
     ],
     "prompt_number": 59
    },
    {
     "cell_type": "code",
     "collapsed": false,
     "input": [],
     "language": "python",
     "metadata": {},
     "outputs": []
    }
   ],
   "metadata": {}
  }
 ]
}
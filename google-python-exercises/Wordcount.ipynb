{
 "metadata": {
  "name": ""
 },
 "nbformat": 3,
 "nbformat_minor": 0,
 "worksheets": [
  {
   "cells": [
    {
     "cell_type": "code",
     "collapsed": false,
     "input": [
      "#!/usr/bin/python -tt\n",
      "# Copyright 2010 Google Inc.\n",
      "# Licensed under the Apache License, Version 2.0\n",
      "# http://www.apache.org/licenses/LICENSE-2.0\n",
      "\n",
      "# Google's Python Class\n",
      "# http://code.google.com/edu/languages/google-python-class/\n",
      "\n",
      "\"\"\"Wordcount exercise\n",
      "Google's Python class\n",
      "\n",
      "The main() below is already defined and complete. It calls print_words()\n",
      "and print_top() functions which you write.\n",
      "\n",
      "1. For the --count flag, implement a print_words(filename) function that counts\n",
      "how often each word appears in the text and prints:\n",
      "word1 count1\n",
      "word2 count2\n",
      "...\n",
      "\n",
      "Print the above list in order sorted by word (python will sort punctuation to\n",
      "come before letters -- that's fine). Store all the words as lowercase,\n",
      "so 'The' and 'the' count as the same word.\n",
      "\n",
      "2. For the --topcount flag, implement a print_top(filename) which is similar\n",
      "to print_words() but which prints just the top 20 most common words sorted\n",
      "so the most common word is first, then the next most common, and so on.\n",
      "\n",
      "Use str.split() (no arguments) to split on all whitespace.\n",
      "\n",
      "Workflow: don't build the whole program at once. Get it to an intermediate\n",
      "milestone and print your data structure and sys.exit(0).\n",
      "When that's working, try for the next milestone.\n",
      "\n",
      "Optional: define a helper function to avoid code duplication inside\n",
      "print_words() and print_top().\n",
      "\n",
      "\"\"\"\n",
      "\n",
      "import sys\n",
      "\n",
      "# +++your code here+++\n",
      "# Define print_words(filename) and print_top(filename) functions.\n",
      "# You could write a helper utility function that reads a file\n",
      "# and builds and returns a word/count dict for it.\n",
      "# Then print_words() and print_top() can just call the utility function.\n",
      "def word_count(filename):\n",
      "    \n",
      "    fyle = open(filename,'rU')\n",
      "    string = fyle.read()\n",
      "    a=string.lower().split()\n",
      "    b=[]\n",
      "    dictn={}\n",
      "    for word in a:\n",
      "        if word not in b:\n",
      "            b.append(word)\n",
      "                        \n",
      "    for word in b:\n",
      "        dictn[word]=a.count(word)\n",
      "    \n",
      "    return dictn\n",
      "\n",
      "def print_words(filename):\n",
      "    \n",
      "    dictn=word_count(filename)\n",
      "    \n",
      "    for key in sorted(dictn.keys()):\n",
      "        print key,'-->',dictn[key]\n",
      "\n",
      "def print_top(filename):\n",
      "    \n",
      "    dictn=word_count(filename)\n",
      "    temp = sorted(dictn, key=dictn.__getitem__,reverse=True)\n",
      "    print temp[:20]\n",
      "    \n",
      "    \n",
      "\n",
      "###\n",
      "\n",
      "# This basic command line argument parsing code is provided and\n",
      "# calls the print_words() and print_top() functions which you must define.\n",
      "def main():\n",
      "  \n",
      "\n",
      "  option = '--topcount'\n",
      "  filename = 'alice.txt'\n",
      "  if option == '--count':\n",
      "    print_words(filename)\n",
      "  elif option == '--topcount':\n",
      "    print_top(filename)\n",
      "  else:\n",
      "    print 'unknown option: ' + option\n",
      "    sys.exit(1)\n",
      "\n",
      "if __name__ == '__main__':\n",
      "  main()"
     ],
     "language": "python",
     "metadata": {},
     "outputs": [
      {
       "output_type": "stream",
       "stream": "stdout",
       "text": [
        "['the', 'and', 'to', 'a', 'she', 'of', 'said', 'it', 'in', 'was', 'you', 'i', 'as', 'that', 'alice', 'her', 'at', 'had', 'with', 'all']\n"
       ]
      }
     ],
     "prompt_number": 37
    },
    {
     "cell_type": "code",
     "collapsed": false,
     "input": [
      "f=open('small.txt','rU')"
     ],
     "language": "python",
     "metadata": {},
     "outputs": [],
     "prompt_number": 17
    },
    {
     "cell_type": "code",
     "collapsed": false,
     "input": [
      "s=f.read()\n",
      "#s=s.strip('\"')"
     ],
     "language": "python",
     "metadata": {},
     "outputs": [],
     "prompt_number": 18
    },
    {
     "cell_type": "code",
     "collapsed": false,
     "input": [
      "a=s.lower().split()"
     ],
     "language": "python",
     "metadata": {},
     "outputs": [],
     "prompt_number": 19
    },
    {
     "cell_type": "code",
     "collapsed": false,
     "input": [
      "b=[]\n",
      "dict={}\n",
      "for word in a:\n",
      "    if word not in b:\n",
      "        b.append(word)\n",
      "for word in b:\n",
      "    dict[word]=a.count(word)\n",
      "for key in sorted(dict.keys()):\n",
      "    print key,'-->',dict[key]\n",
      "sorted(dict,cmp=dict[key])"
     ],
     "language": "python",
     "metadata": {},
     "outputs": [
      {
       "ename": "TypeError",
       "evalue": "'int' object is not callable",
       "output_type": "pyerr",
       "traceback": [
        "\u001b[0;31m---------------------------------------------------------------------------\u001b[0m\n\u001b[0;31mTypeError\u001b[0m                                 Traceback (most recent call last)",
        "\u001b[0;32m<ipython-input-24-41921e8d787f>\u001b[0m in \u001b[0;36m<module>\u001b[0;34m()\u001b[0m\n\u001b[1;32m      8\u001b[0m \u001b[0;32mfor\u001b[0m \u001b[0mkey\u001b[0m \u001b[0;32min\u001b[0m \u001b[0msorted\u001b[0m\u001b[0;34m(\u001b[0m\u001b[0mdict\u001b[0m\u001b[0;34m.\u001b[0m\u001b[0mkeys\u001b[0m\u001b[0;34m(\u001b[0m\u001b[0;34m)\u001b[0m\u001b[0;34m)\u001b[0m\u001b[0;34m:\u001b[0m\u001b[0;34m\u001b[0m\u001b[0m\n\u001b[1;32m      9\u001b[0m     \u001b[0;32mprint\u001b[0m \u001b[0mkey\u001b[0m\u001b[0;34m,\u001b[0m\u001b[0;34m'-->'\u001b[0m\u001b[0;34m,\u001b[0m\u001b[0mdict\u001b[0m\u001b[0;34m[\u001b[0m\u001b[0mkey\u001b[0m\u001b[0;34m]\u001b[0m\u001b[0;34m\u001b[0m\u001b[0m\n\u001b[0;32m---> 10\u001b[0;31m \u001b[0msorted\u001b[0m\u001b[0;34m(\u001b[0m\u001b[0mdict\u001b[0m\u001b[0;34m,\u001b[0m\u001b[0mcmp\u001b[0m\u001b[0;34m=\u001b[0m\u001b[0mdict\u001b[0m\u001b[0;34m[\u001b[0m\u001b[0mkey\u001b[0m\u001b[0;34m]\u001b[0m\u001b[0;34m)\u001b[0m\u001b[0;34m\u001b[0m\u001b[0m\n\u001b[0m",
        "\u001b[0;31mTypeError\u001b[0m: 'int' object is not callable"
       ]
      },
      {
       "output_type": "stream",
       "stream": "stdout",
       "text": [
        "-- --> 1\n",
        "are --> 3\n",
        "at --> 1\n",
        "be --> 3\n",
        "but --> 1\n",
        "coach --> 1\n",
        "football --> 1\n",
        "least --> 1\n",
        "need --> 1\n",
        "not --> 3\n",
        "should --> 1\n",
        "to --> 2\n",
        "used --> 1\n",
        "we --> 6\n",
        "what --> 3\n"
       ]
      }
     ],
     "prompt_number": 24
    },
    {
     "cell_type": "code",
     "collapsed": false,
     "input": [
      "sorted(dict)"
     ],
     "language": "python",
     "metadata": {},
     "outputs": [
      {
       "metadata": {},
       "output_type": "pyout",
       "prompt_number": 25,
       "text": [
        "['--',\n",
        " 'are',\n",
        " 'at',\n",
        " 'be',\n",
        " 'but',\n",
        " 'coach',\n",
        " 'football',\n",
        " 'least',\n",
        " 'need',\n",
        " 'not',\n",
        " 'should',\n",
        " 'to',\n",
        " 'used',\n",
        " 'we',\n",
        " 'what']"
       ]
      }
     ],
     "prompt_number": 25
    },
    {
     "cell_type": "code",
     "collapsed": false,
     "input": [
      "dictn=dict.copy()"
     ],
     "language": "python",
     "metadata": {},
     "outputs": [],
     "prompt_number": 26
    },
    {
     "cell_type": "code",
     "collapsed": false,
     "input": [
      "dictn[1]"
     ],
     "language": "python",
     "metadata": {},
     "outputs": [
      {
       "ename": "KeyError",
       "evalue": "1",
       "output_type": "pyerr",
       "traceback": [
        "\u001b[0;31m---------------------------------------------------------------------------\u001b[0m\n\u001b[0;31mKeyError\u001b[0m                                  Traceback (most recent call last)",
        "\u001b[0;32m<ipython-input-29-d35703fcdbfd>\u001b[0m in \u001b[0;36m<module>\u001b[0;34m()\u001b[0m\n\u001b[0;32m----> 1\u001b[0;31m \u001b[0mdictn\u001b[0m\u001b[0;34m[\u001b[0m\u001b[0;36m1\u001b[0m\u001b[0;34m]\u001b[0m\u001b[0;34m\u001b[0m\u001b[0m\n\u001b[0m",
        "\u001b[0;31mKeyError\u001b[0m: 1"
       ]
      }
     ],
     "prompt_number": 29
    },
    {
     "cell_type": "code",
     "collapsed": false,
     "input": [],
     "language": "python",
     "metadata": {},
     "outputs": []
    }
   ],
   "metadata": {}
  }
 ]
}
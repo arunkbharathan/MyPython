{
 "metadata": {
  "name": ""
 },
 "nbformat": 3,
 "nbformat_minor": 0,
 "worksheets": [
  {
   "cells": [
    {
     "cell_type": "code",
     "collapsed": false,
     "input": [
      "import numpy as np\n",
      "import matplotlib.pyplot as plt\n",
      "\n",
      "class mandelbrot:\n",
      "    def __init__(self,N_max,some_threshold,c):\n",
      "        self.N_max = N_max\n",
      "        self.some_threshold = some_threshold\n",
      "        self.c = c\n",
      "    def findit(self):\n",
      "        z=self.c\n",
      "        for j in xrange(self.N_max):\n",
      "            z = z**2 + c\n",
      "        mandelbrot_set = (abs(z) < self.some_threshold)\n",
      "        return mandelbrot_set\n",
      "    \n",
      "x,y = np.ogrid[-2:1:1001j,-1.5:1.5:1001j]\n",
      "c=(x+1j*y)**11\n",
      "#c = (1./(x +1j*y))**4\n",
      "#c = x +1j*y\n",
      "#c = x**2 +1j*2*x*y-y**2\n",
      "#c = (1j*x-0.25)**2+y**2\n",
      "a = mandelbrot(50,50.,c)\n",
      "mandelbrot_set = a.findit()\n",
      "plt.imshow(mandelbrot_set.T, extent=[-2, 1, -1.5, 1.5])\n",
      "plt.hot()\n",
      "plt.savefig('mandelbrot.png')"
     ],
     "language": "python",
     "metadata": {},
     "outputs": [
      {
       "metadata": {},
       "output_type": "display_data",
       "png": "[encoded data removed]",
       "text": [
        "<matplotlib.figure.Figure at 0x7fa3f9e31610>"
       ]
      }
     ],
     "prompt_number": 57
    },
    {
     "cell_type": "code",
     "collapsed": false,
     "input": [
      "plt.imshow?"
     ],
     "language": "python",
     "metadata": {},
     "outputs": [],
     "prompt_number": 49
    },
    {
     "cell_type": "code",
     "collapsed": false,
     "input": [],
     "language": "python",
     "metadata": {},
     "outputs": []
    }
   ],
   "metadata": {}
  }
 ]
}
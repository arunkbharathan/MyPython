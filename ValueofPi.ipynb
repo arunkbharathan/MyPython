{
 "metadata": {
  "name": ""
 },
 "nbformat": 3,
 "nbformat_minor": 0,
 "worksheets": [
  {
   "cells": [
    {
     "cell_type": "code",
     "collapsed": false,
     "input": [
      "import time as tt\n",
      "st=tt.time()\n",
      "print \"This is console module\"\n",
      "a=1\n",
      "for i in range(1,10000000):\n",
      "    b=4.0*i*i\n",
      "    a=((b)/(b-1))*a\n",
      "a=a*2\n",
      "print (\"Pi is %f\"%(a))\n",
      "print tt.time()-st"
     ],
     "language": "python",
     "metadata": {},
     "outputs": [
      {
       "output_type": "stream",
       "stream": "stdout",
       "text": [
        "This is console module\n",
        "Pi is 3.141593"
       ]
      },
      {
       "output_type": "stream",
       "stream": "stdout",
       "text": [
        "\n",
        "4.00795292854\n"
       ]
      }
     ],
     "prompt_number": 1
    },
    {
     "cell_type": "code",
     "collapsed": false,
     "input": [],
     "language": "python",
     "metadata": {},
     "outputs": []
    }
   ],
   "metadata": {}
  }
 ]
}
{
 "metadata": {
  "name": ""
 },
 "nbformat": 3,
 "nbformat_minor": 0,
 "worksheets": [
  {
   "cells": [
    {
     "cell_type": "code",
     "collapsed": false,
     "input": [
      "#!/usr/bin/python\n",
      "# -*- coding: utf-8 -*-\n",
      "\n",
      "\"\"\"\n",
      "ZetCode PyQt4 tutorial \n",
      "\n",
      "In this example, we create a simple\n",
      "window in PyQt4.\n",
      "\n",
      "author: Jan Bodnar\n",
      "website: zetcode.com \n",
      "last edited: October 2011\n",
      "\"\"\"\n",
      "\n",
      "import sys\n",
      "from PyQt4 import QtGui\n",
      "\n",
      "\n",
      "def main():\n",
      "    \n",
      "    app = QtGui.QApplication(sys.argv)\n",
      "\n",
      "    w = QtGui.QWidget()\n",
      "    w.resize(1680, 1050)\n",
      "    w.move(300, 120)\n",
      "    w.setWindowTitle('Arun K Bharathan')\n",
      "    w.show()\n",
      "    \n",
      "    sys.exit(app.exec_())\n",
      "\n",
      "\n",
      "if __name__ == '__main__':\n",
      "    main()\n"
     ],
     "language": "python",
     "metadata": {},
     "outputs": [
      {
       "ename": "SystemExit",
       "evalue": "0",
       "output_type": "pyerr",
       "traceback": [
        "An exception has occurred, use %tb to see the full traceback.\n",
        "\u001b[0;31mSystemExit\u001b[0m\u001b[0;31m:\u001b[0m 0\n"
       ]
      },
      {
       "output_type": "stream",
       "stream": "stderr",
       "text": [
        "To exit: use 'exit', 'quit', or Ctrl-D.\n"
       ]
      }
     ],
     "prompt_number": 1
    },
    {
     "cell_type": "code",
     "collapsed": false,
     "input": [
      "#!/usr/bin/python\n",
      "# -*- coding: utf-8 -*-\n",
      "\n",
      "\"\"\"\n",
      "ZetCode PyQt4 tutorial \n",
      "\n",
      "This example shows an icon\n",
      "in the titlebar of the window.\n",
      "\n",
      "author: Jan Bodnar\n",
      "website: zetcode.com \n",
      "last edited: October 2011\n",
      "\"\"\"\n",
      "\n",
      "import sys\n",
      "from PyQt4 import QtGui\n",
      "\n",
      "\n",
      "class Example(QtGui.QWidget):\n",
      "    \n",
      "    def __init__(self):\n",
      "        super(Example, self).__init__()\n",
      "        \n",
      "        self.initUI()\n",
      "        \n",
      "        \n",
      "    def initUI(self):\n",
      "        \n",
      "        self.setGeometry(300, 300, 250, 150)\n",
      "        self.setWindowTitle('Icon')\n",
      "        self.setWindowIcon(QtGui.QIcon('web.png'))        \n",
      "    \n",
      "        self.show()\n",
      "        \n",
      "        \n",
      "def main():\n",
      "    \n",
      "    app = QtGui.QApplication(sys.argv)\n",
      "    ex = Example()\n",
      "    sys.exit(app.exec_())\n",
      "\n",
      "\n",
      "if __name__ == '__main__':\n",
      "    main()  "
     ],
     "language": "python",
     "metadata": {},
     "outputs": [],
     "prompt_number": "*"
    },
    {
     "cell_type": "code",
     "collapsed": false,
     "input": [
      "#!/usr/bin/python\n",
      "# -*- coding: utf-8 -*-\n",
      "\n",
      "\"\"\"\n",
      "ZetCode PyQt4 tutorial \n",
      "\n",
      "This example shows a tooltip on \n",
      "a window and a button\n",
      "\n",
      "author: Jan Bodnar\n",
      "website: zetcode.com \n",
      "last edited: October 2011\n",
      "\"\"\"\n",
      "\n",
      "import sys\n",
      "from PyQt4 import QtGui,QtCore\n",
      "from PyQt4.QtGui import QPushButton as qwe\n",
      "\n",
      "\n",
      "class Example(QtGui.QWidget):\n",
      "    \n",
      "    def __init__(self):\n",
      "        super(Example, self).__init__()\n",
      "        \n",
      "        self.initUI()\n",
      "        \n",
      "    def initUI(self):\n",
      "        \n",
      "        QtGui.QToolTip.setFont(QtGui.QFont('SansSerif', 10))\n",
      "        \n",
      "        self.setToolTip('This is a <b>QWidget</b> widget')\n",
      "        \n",
      "        btn = qwe('Quit', self)\n",
      "        \n",
      "        btn.clicked.connect(QtCore.QCoreApplication.instance().quit)\n",
      "        btn.setToolTip('<b>Closes</b> widget')\n",
      "        btn.resize(btn.sizeHint())\n",
      "        btn.move(50, 50)       \n",
      "        self.setGeometry(300, 300, 250, 150)\n",
      "        self.setWindowTitle('Tooltips')    \n",
      "        self.show()\n",
      "        \n",
      "def main():\n",
      "    \n",
      "    app = QtGui.QApplication(sys.argv)\n",
      "    ex = Example()\n",
      "    exit()\n",
      "    sys.exit(app.exec_())\n",
      "\n",
      "\n",
      "if __name__ == '__main__':\n",
      "    main()\n"
     ],
     "language": "python",
     "metadata": {},
     "outputs": [
      {
       "ename": "SystemExit",
       "evalue": "0",
       "output_type": "pyerr",
       "traceback": [
        "An exception has occurred, use %tb to see the full traceback.\n",
        "\u001b[0;31mSystemExit\u001b[0m\u001b[0;31m:\u001b[0m 0\n"
       ]
      },
      {
       "output_type": "stream",
       "stream": "stderr",
       "text": [
        "To exit: use 'exit', 'quit', or Ctrl-D.\n"
       ]
      }
     ],
     "prompt_number": "*"
    },
    {
     "cell_type": "code",
     "collapsed": false,
     "input": [
      "import sys\n",
      "from PyQt4 import QtGui\n",
      "\n",
      "class Example(QtGui.QWidget):\n",
      "    def __init__(self):\n",
      "        super(Example,self).__init__()\n",
      "        \n",
      "        self.initUI()\n",
      "        \n",
      "    def initUI(self):\n",
      "        \n",
      "        self.setGeometry(300,300,250,150)\n",
      "        self.center()\n",
      "        self.setWindowTitle('Message Box at Center')\n",
      "        self.show()\n",
      "        \n",
      "    def center(self):\n",
      "        qr = self.frameGeometry()\n",
      "        cp = QtGui.QDesktopWidget().availableGeometry().center()\n",
      "        qr.moveCenter(cp)\n",
      "        self.move(qr.topLeft())\n",
      "        \n",
      "        \n",
      "    def closeEvent(self,event):\n",
      "        reply = QtGui.QMessageBox.question(self,'Message',\"Quiting???\",QtGui.QMessageBox.Yes | QtGui.QMessageBox.No)\n",
      "        if reply == QtGui.QMessageBox.Yes:\n",
      "            event.accept()\n",
      "        else:\n",
      "            event.ignore()\n",
      "            \n",
      "def main():\n",
      "    app = QtGui.QApplication(sys.argv)\n",
      "    ex = Example()\n",
      "    sys.exit(app.exec_())\n",
      "    \n",
      "if __name__=='__main__':\n",
      "    main()"
     ],
     "language": "python",
     "metadata": {},
     "outputs": [
      {
       "ename": "SystemExit",
       "evalue": "0",
       "output_type": "pyerr",
       "traceback": [
        "An exception has occurred, use %tb to see the full traceback.\n",
        "\u001b[0;31mSystemExit\u001b[0m\u001b[0;31m:\u001b[0m 0\n"
       ]
      },
      {
       "output_type": "stream",
       "stream": "stderr",
       "text": [
        "To exit: use 'exit', 'quit', or Ctrl-D.\n"
       ]
      }
     ],
     "prompt_number": 1
    },
    {
     "cell_type": "code",
     "collapsed": false,
     "input": [
      "a=!lsblk\n",
      "for each in a:\n",
      "    print each"
     ],
     "language": "python",
     "metadata": {},
     "outputs": [
      {
       "output_type": "stream",
       "stream": "stdout",
       "text": [
        "NAME   MAJ:MIN RM   SIZE RO TYPE MOUNTPOINT\n",
        "sda      8:0    0 298.1G  0 disk \n",
        "\u251c\u2500sda1   8:1    0   100M  0 part \n",
        "\u251c\u2500sda2   8:2    0  67.4G  0 part \n",
        "\u251c\u2500sda3   8:3    0     1K  0 part \n",
        "\u251c\u2500sda5   8:5    0 200.6G  0 part \n",
        "\u251c\u2500sda6   8:6    0     2G  0 part [SWAP]\n",
        "\u2514\u2500sda7   8:7    0    28G  0 part /\n",
        "sdb      8:16   0 149.1G  0 disk \n",
        "\u2514\u2500sdb1   8:17   0   149G  0 part \n",
        "sr0     11:0    1  1024M  0 rom  \n"
       ]
      }
     ],
     "prompt_number": 3
    },
    {
     "cell_type": "code",
     "collapsed": false,
     "input": [
      "print '\\xe2\\x94\\x9c\\xe2\\x94\\x80sda1'"
     ],
     "language": "python",
     "metadata": {},
     "outputs": [
      {
       "output_type": "stream",
       "stream": "stdout",
       "text": [
        "\u251c\u2500sda1\n"
       ]
      }
     ],
     "prompt_number": 5
    },
    {
     "cell_type": "code",
     "collapsed": false,
     "input": [],
     "language": "python",
     "metadata": {},
     "outputs": [],
     "prompt_number": 5
    },
    {
     "cell_type": "code",
     "collapsed": false,
     "input": [],
     "language": "python",
     "metadata": {},
     "outputs": [],
     "prompt_number": 4
    },
    {
     "cell_type": "code",
     "collapsed": false,
     "input": [],
     "language": "python",
     "metadata": {},
     "outputs": [],
     "prompt_number": 4
    },
    {
     "cell_type": "code",
     "collapsed": false,
     "input": [],
     "language": "python",
     "metadata": {},
     "outputs": []
    }
   ],
   "metadata": {}
  }
 ]
}
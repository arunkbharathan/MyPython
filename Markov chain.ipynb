{
 "metadata": {
  "name": ""
 },
 "nbformat": 3,
 "nbformat_minor": 0,
 "worksheets": [
  {
   "cells": [
    {
     "cell_type": "code",
     "collapsed": false,
     "input": [
      "class Markov:\n",
      "    \n",
      "    def __init__(self):\n",
      "        self.P = self.generate_P()\n",
      "        self.p = self.generate_p()\n",
      "        \n",
      "    def generate_P(self):\n",
      "        np.random.seed(24031988)\n",
      "        P = np.random.rand(5,5)\n",
      "        n=np.sum(P,axis=1)\n",
      "        n=n[:,np.newaxis]\n",
      "        return P/n\n",
      "    \n",
      "    def generate_p(self):\n",
      "        np.random.seed(24032015)\n",
      "        p=np.random.rand(5,1)\n",
      "        n=np.sum(p)\n",
      "        return p/n\n",
      "    \n",
      "    def findit(self):\n",
      "        for j in range(1000):\n",
      "            self.p=self.P.T.dot(p)\n",
      "        #return self.get_p()\n",
      "            \n",
      "    def get_p(self):\n",
      "        return self.p\n",
      "    def get_P(self):\n",
      "        return self.P\n",
      "\n",
      "    \n",
      "tolerance = 1e-5    \n",
      "M=Markov()\n",
      "#print M.get_p()\n",
      "P=M.get_P()\n",
      "p_ini=M.get_p()\n",
      "#print np.linalg.norm(p_ini)\n",
      "M.findit()\n",
      "p_fin=M.get_p()\n",
      "#print np.linalg.norm(p_fin)\n",
      "a,b=np.linalg.eig(P.T)\n",
      "b=np.real(b[:,0])[:,np.newaxis]\n",
      "p_sta=b/b.sum()\n",
      "# Compare\n",
      "if all(abs(p_fin - p_sta) < tolerance):\n",
      "    print \"Tolerance satisfied in infty-norm\"\n",
      "\n",
      "if np.linalg.norm(p_fin - p_sta) < tolerance:\n",
      "    print \"Tolerance satisfied in 2-norm\""
     ],
     "language": "python",
     "metadata": {},
     "outputs": [
      {
       "output_type": "stream",
       "stream": "stdout",
       "text": [
        "Tolerance satisfied in infty-norm\n",
        "Tolerance satisfied in 2-norm\n"
       ]
      }
     ],
     "prompt_number": 163
    },
    {
     "cell_type": "code",
     "collapsed": false,
     "input": [
      "a,b=np.linalg.eig"
     ],
     "language": "python",
     "metadata": {},
     "outputs": [
      {
       "ename": "TypeError",
       "evalue": "'function' object is not iterable",
       "output_type": "pyerr",
       "traceback": [
        "\u001b[0;31m---------------------------------------------------------------------------\u001b[0m\n\u001b[0;31mTypeError\u001b[0m                                 Traceback (most recent call last)",
        "\u001b[0;32m<ipython-input-154-e2925d874895>\u001b[0m in \u001b[0;36m<module>\u001b[0;34m()\u001b[0m\n\u001b[0;32m----> 1\u001b[0;31m \u001b[0ma\u001b[0m\u001b[0;34m,\u001b[0m\u001b[0mb\u001b[0m\u001b[0;34m=\u001b[0m\u001b[0mnp\u001b[0m\u001b[0;34m.\u001b[0m\u001b[0mlinalg\u001b[0m\u001b[0;34m.\u001b[0m\u001b[0meig\u001b[0m\u001b[0;34m\u001b[0m\u001b[0m\n\u001b[0m",
        "\u001b[0;31mTypeError\u001b[0m: 'function' object is not iterable"
       ]
      }
     ],
     "prompt_number": 154
    },
    {
     "cell_type": "code",
     "collapsed": false,
     "input": [
      "np.sum(P, axis=1)-1"
     ],
     "language": "python",
     "metadata": {},
     "outputs": [
      {
       "metadata": {},
       "output_type": "pyout",
       "prompt_number": 128,
       "text": [
        "array([  2.22044605e-16,   0.00000000e+00,   0.00000000e+00,\n",
        "        -1.11022302e-16,   2.22044605e-16])"
       ]
      }
     ],
     "prompt_number": 128
    },
    {
     "cell_type": "code",
     "collapsed": false,
     "input": [
      "p.sum() - 1"
     ],
     "language": "python",
     "metadata": {},
     "outputs": [
      {
       "metadata": {},
       "output_type": "pyout",
       "prompt_number": 103,
       "text": [
        "-1.1102230246251565e-16"
       ]
      }
     ],
     "prompt_number": 103
    },
    {
     "cell_type": "code",
     "collapsed": false,
     "input": [
      "P"
     ],
     "language": "python",
     "metadata": {},
     "outputs": [
      {
       "metadata": {},
       "output_type": "pyout",
       "prompt_number": 95,
       "text": [
        "array([[ 0.12458381,  0.09917389,  0.32845014,  0.35511759,  0.09267457],\n",
        "       [ 0.14088567,  0.1886642 ,  0.32075394,  0.32230545,  0.02739073],\n",
        "       [ 0.21073272,  0.24935536,  0.26968229,  0.09139295,  0.17883668],\n",
        "       [ 0.06700507,  0.23415229,  0.29918691,  0.10516954,  0.29448618],\n",
        "       [ 0.33005872,  0.05706639,  0.34069895,  0.1455529 ,  0.12662304]])"
       ]
      }
     ],
     "prompt_number": 95
    },
    {
     "cell_type": "code",
     "collapsed": false,
     "input": [
      "p"
     ],
     "language": "python",
     "metadata": {},
     "outputs": [
      {
       "metadata": {},
       "output_type": "pyout",
       "prompt_number": 96,
       "text": [
        "array([[ 0.32517703],\n",
        "       [ 0.22236319],\n",
        "       [ 0.33623603],\n",
        "       [ 0.11097213],\n",
        "       [ 0.00525162]])"
       ]
      }
     ],
     "prompt_number": 96
    },
    {
     "cell_type": "code",
     "collapsed": false,
     "input": [
      "np.dot(P,p)"
     ],
     "language": "python",
     "metadata": {},
     "outputs": [
      {
       "metadata": {},
       "output_type": "pyout",
       "prompt_number": 97,
       "text": [
        "array([[ 0.21289603],\n",
        "       [ 0.23152456],\n",
        "       [ 0.22573105],\n",
        "       [ 0.1876702 ],\n",
        "       [ 0.25138953]])"
       ]
      }
     ],
     "prompt_number": 97
    },
    {
     "cell_type": "code",
     "collapsed": false,
     "input": [
      "np.linalg.norm(P)"
     ],
     "language": "python",
     "metadata": {},
     "outputs": [
      {
       "metadata": {},
       "output_type": "pyout",
       "prompt_number": 119,
       "text": [
        "1.1236739183103561"
       ]
      }
     ],
     "prompt_number": 119
    },
    {
     "cell_type": "code",
     "collapsed": false,
     "input": [
      "np.sum(p**2)"
     ],
     "language": "python",
     "metadata": {},
     "outputs": [
      {
       "metadata": {},
       "output_type": "pyout",
       "prompt_number": 121,
       "text": [
        "0.28058254909706215"
       ]
      }
     ],
     "prompt_number": 121
    },
    {
     "cell_type": "code",
     "collapsed": false,
     "input": [],
     "language": "python",
     "metadata": {},
     "outputs": []
    }
   ],
   "metadata": {}
  }
 ]
}